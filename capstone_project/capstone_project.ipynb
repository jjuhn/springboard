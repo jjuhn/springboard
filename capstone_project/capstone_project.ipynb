{
 "cells": [
  {
   "cell_type": "code",
   "execution_count": 49,
   "metadata": {
    "collapsed": true
   },
   "outputs": [],
   "source": [
    "import pandas as pd\n",
    "import numpy as np\n",
    "import matplotlib.pyplot as plt\n",
    "from sklearn.decomposition import PCA\n",
    "from sklearn import preprocessing\n",
    "%matplotlib inline\n",
    "\n",
    "import seaborn as sb"
   ]
  },
  {
   "cell_type": "code",
   "execution_count": 39,
   "metadata": {},
   "outputs": [],
   "source": [
    "df = pd.read_csv(\"/Users/jj/PycharmProjects/springboard2/capstone_project/data/cervical.csv\", sep=\",\")\n",
    "\n",
    "# print(df.columns[1:])\n",
    "# print(df.ID)\n",
    "\n",
    "data = []\n",
    "for col in df.columns[1:]:\n",
    "    row = df[col].tolist()\n",
    "    if col.startswith(\"N\"):\n",
    "        row.insert(0, 0)\n",
    "    else:\n",
    "        row.insert(0, 1)\n",
    "    data.append(row)\n",
    "    \n",
    "\n",
    "cols = df.ID.tolist()\n",
    "cols.insert(0, \"is_tumour\")\n",
    "\n",
    "new_df = pd.DataFrame(data=data, columns=cols)\n",
    "# print(new_df)"
   ]
  },
  {
   "cell_type": "code",
   "execution_count": 40,
   "metadata": {
    "collapsed": false
   },
   "outputs": [],
   "source": [
    "normal_df = new_df[new_df.is_tumour == 0]\n",
    "tumour_df = new_df[new_df.is_tumour == 1]"
   ]
  },
  {
   "cell_type": "code",
   "execution_count": 41,
   "metadata": {},
   "outputs": [
    {
     "data": {
      "text/plain": [
       "(array([], dtype=int64), array([], dtype=int64))"
      ]
     },
     "execution_count": 41,
     "metadata": {},
     "output_type": "execute_result"
    }
   ],
   "source": [
    "# There are no empty cells. \n",
    "np.where(pd.isnull(normal_df))\n",
    "np.where(pd.isnull(tumour_df))"
   ]
  },
  {
   "cell_type": "code",
   "execution_count": 78,
   "metadata": {
    "collapsed": false
   },
   "outputs": [
    {
     "data": {
      "image/png": "[encoded data removed]",
      "text/plain": [
       "<matplotlib.figure.Figure at 0x115eae898>"
      ]
     },
     "metadata": {},
     "output_type": "display_data"
    }
   ],
   "source": [
    "# PCA to figure out the optimum number of features. \n",
    "\n",
    "# sliced off the target. which is is tumour or not. \n",
    "df = new_df.iloc[:, 1:]\n",
    "df_norm = (df - df.mean()) / df.std()\n",
    "\n",
    "pca = PCA()\n",
    "pca.fit_transform(df_norm.values)\n",
    "var = np.cumsum(np.round(pca.explained_variance_ratio_, decimals=4)*100)\n",
    "plt.plot(var)\n",
    "plt.show()\n",
    "# about 30~ 40 features gives 95%"
   ]
  },
  {
   "cell_type": "code",
   "execution_count": 81,
   "metadata": {
    "collapsed": false
   },
   "outputs": [
    {
     "name": "stdout",
     "output_type": "stream",
     "text": [
      "         let-7a   let-7a*    let-7b   let-7b*    let-7c   let-7c*    let-7d  \\\nPC-1   0.023626  0.050141  0.059529  0.044147  0.029303  0.030311  0.035405   \nPC-2  -0.035742 -0.038681 -0.004638 -0.059387 -0.050660 -0.034365 -0.028374   \nPC-3   0.056657 -0.050334 -0.006679 -0.031023  0.044436 -0.016572  0.095206   \nPC-4   0.035516 -0.032935 -0.009236 -0.019187  0.035114 -0.014287 -0.039059   \nPC-5   0.041930 -0.000887  0.004475  0.016189  0.054459  0.014704 -0.035227   \nPC-6  -0.029131 -0.006516 -0.006809 -0.017430 -0.049105 -0.032126  0.012487   \nPC-7   0.076114 -0.062207 -0.010691 -0.047090  0.083174 -0.081497 -0.040233   \nPC-8  -0.079145 -0.000889 -0.026320 -0.035780 -0.049174 -0.005721 -0.032045   \nPC-9  -0.007951  0.006788  0.043351  0.045384  0.017367  0.089732  0.032070   \nPC-10 -0.014075 -0.012229 -0.020368 -0.045894  0.004944 -0.067404  0.005062   \nPC-11 -0.048697 -0.036916  0.012552 -0.002583 -0.012800 -0.007653  0.013054   \nPC-12 -0.038469  0.018020  0.041876  0.006579 -0.038651 -0.033564  0.040114   \nPC-13  0.015204 -0.001765  0.017622  0.012317 -0.015514  0.004234  0.019704   \nPC-14 -0.052290 -0.012020 -0.043629 -0.036548  0.006136 -0.031982  0.043879   \nPC-15  0.060321  0.024156  0.037228  0.021598 -0.004828  0.009145  0.004020   \nPC-16 -0.077566 -0.001233 -0.031658 -0.004230  0.002573 -0.008083 -0.026325   \nPC-17 -0.053189 -0.008524 -0.037160 -0.004368 -0.025591  0.000645 -0.014582   \nPC-18 -0.000714 -0.020821  0.007905 -0.000691 -0.013711 -0.014389  0.006732   \nPC-19 -0.025575  0.024026 -0.019666 -0.001197 -0.010160  0.135821  0.004254   \nPC-20 -0.002564  0.010565 -0.005749  0.010916 -0.013263 -0.017935 -0.030468   \nPC-21  0.031784 -0.014397  0.009341  0.018863  0.006018  0.050164 -0.009160   \nPC-22  0.026291 -0.008557  0.015301 -0.005326 -0.006252 -0.029035  0.000525   \nPC-23 -0.002397  0.006959 -0.016376 -0.022090  0.001043  0.018255 -0.002222   \nPC-24 -0.025525  0.008030 -0.000117  0.004559  0.001170  0.035099  0.005881   \nPC-25 -0.014167  0.006055 -0.010443 -0.019396  0.010042  0.000575 -0.008958   \nPC-26 -0.021292  0.009137 -0.004143 -0.009781 -0.013225  0.038154  0.031942   \nPC-27  0.032657  0.001857  0.016191  0.021450  0.068029  0.034303  0.013857   \nPC-28  0.024025  0.003825  0.020531  0.018545  0.021136 -0.003489  0.023425   \nPC-29 -0.015095 -0.010359  0.002097 -0.011863 -0.005964  0.026291  0.020797   \nPC-30 -0.003524  0.004435 -0.006154  0.004620 -0.006204 -0.008946  0.011112   \nPC-31  0.003712  0.001826  0.002967 -0.028389  0.037881  0.014253 -0.022844   \nPC-32  0.011722  0.000109  0.001511 -0.014397  0.031710  0.021353  0.009376   \nPC-33  0.003582 -0.040711 -0.012396 -0.012343  0.032209 -0.082154  0.001249   \nPC-34  0.011443  0.019505  0.004042 -0.021872  0.013020  0.033858  0.000473   \nPC-35  0.019424 -0.016761  0.008138 -0.013810  0.004176  0.011238  0.002389   \n\n        let-7d*    let-7e   let-7e*      ...       Candidate-57-3p  \\\nPC-1   0.037836  0.047187  0.041950      ...              0.024531   \nPC-2  -0.078479 -0.051991 -0.050688      ...             -0.070267   \nPC-3  -0.031723 -0.033178 -0.058794      ...              0.015329   \nPC-4  -0.007640  0.006386 -0.022580      ...              0.012266   \nPC-5   0.024900  0.020119  0.009456      ...              0.043403   \nPC-6  -0.020488 -0.003194 -0.005803      ...             -0.040122   \nPC-7  -0.031482 -0.036585 -0.061890      ...              0.023217   \nPC-8  -0.017764 -0.005767  0.002809      ...             -0.025262   \nPC-9   0.024404  0.040430  0.052055      ...              0.028091   \nPC-10 -0.036274 -0.030957 -0.046147      ...             -0.036902   \nPC-11  0.040392  0.055779 -0.020422      ...              0.000206   \nPC-12  0.006398  0.056418 -0.001329      ...             -0.030526   \nPC-13  0.015237  0.029532  0.007629      ...              0.004710   \nPC-14 -0.012208  0.010076 -0.022489      ...             -0.016557   \nPC-15  0.016573  0.024780  0.023123      ...             -0.019052   \nPC-16 -0.013014 -0.029105 -0.017418      ...              0.013450   \nPC-17  0.001774 -0.003137 -0.002410      ...              0.047730   \nPC-18 -0.013648  0.000978  0.016362      ...              0.040244   \nPC-19  0.051358  0.004193  0.031622      ...              0.004302   \nPC-20  0.025747  0.022121  0.012972      ...              0.073635   \nPC-21  0.007714  0.002785 -0.004261      ...              0.058216   \nPC-22  0.005387  0.014156 -0.019447      ...             -0.051143   \nPC-23  0.002983 -0.014962 -0.026326      ...             -0.079493   \nPC-24  0.001810  0.012181 -0.005766      ...              0.036186   \nPC-25 -0.007033 -0.022407  0.000519      ...             -0.074994   \nPC-26 -0.013708 -0.007222 -0.002899      ...             -0.029758   \nPC-27  0.013698  0.038311  0.022943      ...              0.059385   \nPC-28  0.012380  0.016904 -0.017192      ...             -0.046716   \nPC-29  0.015001  0.004442  0.003942      ...              0.055126   \nPC-30  0.005044 -0.004397 -0.000812      ...             -0.029623   \nPC-31 -0.031022 -0.013186  0.016112      ...              0.040035   \nPC-32  0.002414 -0.001689  0.000015      ...             -0.012045   \nPC-33  0.011987 -0.018619 -0.017929      ...             -0.114326   \nPC-34 -0.010030  0.001156  0.024842      ...              0.018917   \nPC-35  0.005136 -0.007238 -0.009380      ...              0.010933   \n\n       Candidate-58-3p  Candidate-58-5p  Candidate-59-3p  Candidate-59-5p  \\\nPC-1          0.020419         0.000026         0.041211         0.055709   \nPC-2         -0.042702        -0.000789         0.028564         0.032011   \nPC-3          0.029171         0.015776        -0.030063         0.009309   \nPC-4          0.053399        -0.024127        -0.008731         0.028702   \nPC-5          0.050710         0.010277        -0.046529         0.015394   \nPC-6         -0.008555         0.012225         0.070221        -0.042347   \nPC-7          0.084323        -0.004425         0.053103        -0.007707   \nPC-8         -0.018938        -0.035655         0.042083         0.041008   \nPC-9          0.034641         0.081219         0.069240        -0.007729   \nPC-10        -0.011077         0.104567        -0.038915         0.025633   \nPC-11        -0.034247        -0.004154        -0.029758         0.007592   \nPC-12        -0.068004        -0.044249        -0.000656         0.036138   \nPC-13        -0.031135        -0.020556        -0.004671        -0.012129   \nPC-14         0.022490        -0.006702        -0.023534         0.011776   \nPC-15        -0.019696        -0.019943        -0.024451        -0.013878   \nPC-16         0.003628        -0.000620        -0.002910         0.015094   \nPC-17        -0.018109        -0.025874        -0.001963        -0.002300   \nPC-18        -0.008391        -0.057265         0.007601        -0.023194   \nPC-19        -0.061404        -0.053889        -0.012602         0.011485   \nPC-20         0.007279         0.076449        -0.017875        -0.011216   \nPC-21        -0.023274         0.035817        -0.027831        -0.012973   \nPC-22         0.001452         0.011874         0.001011         0.007961   \nPC-23        -0.066516        -0.040225        -0.005122        -0.008893   \nPC-24        -0.032789        -0.040797        -0.025734         0.021445   \nPC-25         0.073448         0.008839         0.033856        -0.018615   \nPC-26        -0.023242        -0.059799         0.026299        -0.022980   \nPC-27         0.102632         0.130313        -0.029393         0.008480   \nPC-28        -0.004504         0.140764        -0.012195         0.010411   \nPC-29        -0.044643        -0.188701        -0.004335        -0.006432   \nPC-30        -0.040491         0.035608         0.013009        -0.002010   \nPC-31        -0.011548        -0.062550        -0.008053         0.013736   \nPC-32         0.021504         0.053653        -0.008771         0.004494   \nPC-33         0.035471        -0.048907         0.001356        -0.008443   \nPC-34        -0.001470        -0.001518        -0.011085        -0.002721   \nPC-35         0.057141         0.064084         0.011572        -0.006705   \n\n       Candidate-60  Candidate-61  Candidate-62  Candidate-63  Candidate-64  \nPC-1       0.025170      0.002623      0.008547      0.037747      0.035599  \nPC-2      -0.053169     -0.001396     -0.024548     -0.040995      0.011315  \nPC-3      -0.013962      0.008952      0.040383      0.013533      0.025002  \nPC-4      -0.053652      0.001983      0.006099     -0.040389     -0.015382  \nPC-5       0.036361     -0.000337      0.006416     -0.018310      0.016788  \nPC-6       0.029781     -0.020381     -0.033373     -0.021691     -0.063906  \nPC-7      -0.003288      0.004179      0.056959     -0.064500     -0.020832  \nPC-8       0.023074      0.012089     -0.056919      0.002043     -0.060788  \nPC-9      -0.120609      0.004351     -0.048124     -0.087971     -0.002653  \nPC-10      0.061038      0.009803     -0.017237      0.044549     -0.053613  \nPC-11     -0.030232     -0.006005      0.012282     -0.073464     -0.061451  \nPC-12      0.019704     -0.042779     -0.008416      0.025724     -0.026480  \nPC-13     -0.003318     -0.028830     -0.020497     -0.011646     -0.017042  \nPC-14      0.002740      0.000187     -0.056442      0.039367      0.037022  \nPC-15      0.003835      0.007602     -0.010577      0.033194      0.011262  \nPC-16     -0.013377     -0.016228     -0.061133     -0.042827     -0.057617  \nPC-17     -0.004367     -0.029072     -0.031930     -0.040112     -0.052315  \nPC-18      0.001408     -0.020042      0.144965      0.003614      0.027147  \nPC-19     -0.016093     -0.058396     -0.001012      0.002021     -0.039311  \nPC-20     -0.018357      0.110458      0.022923     -0.004377     -0.058859  \nPC-21      0.015172     -0.033202     -0.043223     -0.002350     -0.010668  \nPC-22      0.006528      0.038734      0.072244     -0.026521      0.025149  \nPC-23      0.005664     -0.090154     -0.011020      0.008524      0.007292  \nPC-24     -0.044237     -0.103581     -0.079984      0.033387     -0.029962  \nPC-25      0.000315      0.119920      0.115407      0.003860     -0.062455  \nPC-26     -0.021600     -0.032806     -0.106733     -0.022460      0.036324  \nPC-27     -0.017944      0.244393     -0.050453     -0.005138     -0.008556  \nPC-28     -0.047623      0.036567      0.083952     -0.008089      0.039706  \nPC-29      0.018236     -0.203390     -0.103132     -0.000116      0.012350  \nPC-30     -0.036579     -0.058589      0.009061     -0.014520     -0.035941  \nPC-31      0.010635     -0.042750      0.043960     -0.013271     -0.028283  \nPC-32     -0.032365      0.123367      0.019884     -0.002572      0.008178  \nPC-33     -0.011478      0.040113     -0.086641      0.022230      0.009544  \nPC-34      0.042002      0.035644      0.002838      0.010320      0.015868  \nPC-35     -0.011689      0.045541      0.056155      0.003993     -0.014552  \n\n[35 rows x 714 columns]\n"
     ]
    }
   ],
   "source": [
    "N_COMPONENTS = 35\n",
    "pca2 = PCA(n_components=N_COMPONENTS)\n",
    "pca2.fit_transform(df_norm.values)\n",
    "\n",
    "data_scaled = pd.DataFrame(preprocessing.scale(df), columns=df.columns)\n",
    "\n",
    "pc_names = [\"PC-\"+str(i+1) for i in range(N_COMPONENTS)]\n",
    "\n",
    "print(pd.DataFrame(pca2.components_, columns=data_scaled.columns, index=pc_names))"
   ]
  },
  {
   "cell_type": "code",
   "execution_count": 76,
   "metadata": {
    "collapsed": false
   },
   "outputs": [
    {
     "name": "stdout",
     "output_type": "stream",
     "text": [
      "0     0\n1     0\n2     0\n3     0\n4     0\n5     0\n6     0\n7     0\n8     0\n9     0\n10    0\n11    0\n12    0\n13    0\n14    0\n15    0\n16    0\n17    0\n18    0\n19    0\n20    0\n21    0\n22    0\n23    0\n24    0\n25    0\n26    0\n27    0\n28    0\n29    1\n30    1\n31    1\n32    1\n33    1\n34    1\n35    1\n36    1\n37    1\n38    1\n39    1\n40    1\n41    1\n42    1\n43    1\n44    1\n45    1\n46    1\n47    1\n48    1\n49    1\n50    1\n51    1\n52    1\n53    1\n54    1\n55    1\n56    1\n57    1\nName: is_tumour, dtype: int64\n"
     ]
    }
   ],
   "source": [
    "y = new_df.is_tumour\n",
    "target_names = [\"normal\", \"tumour\"]\n",
    "colors = ['navy', 'darkorange']\n",
    "lw = 1\n"
   ]
  },
  {
   "cell_type": "code",
   "execution_count": null,
   "metadata": {},
   "outputs": [],
   "source": [
    ""
   ]
  }
 ],
 "metadata": {
  "kernelspec": {
   "display_name": "Python 2",
   "language": "python",
   "name": "python2"
  },
  "language_info": {
   "codemirror_mode": {
    "name": "ipython",
    "version": 2.0
   },
   "file_extension": ".py",
   "mimetype": "text/x-python",
   "name": "python",
   "nbconvert_exporter": "python",
   "pygments_lexer": "ipython2",
   "version": "2.7.6"
  }
 },
 "nbformat": 4,
 "nbformat_minor": 0
}